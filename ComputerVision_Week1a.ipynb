{
  "nbformat": 4,
  "nbformat_minor": 0,
  "metadata": {
    "colab": {
      "name": "ComputerVision-Week1a.ipynb",
      "provenance": [],
      "collapsed_sections": []
    },
    "kernelspec": {
      "name": "python3",
      "display_name": "Python 3"
    }
  },
  "cells": [
    {
      "cell_type": "markdown",
      "metadata": {
        "id": "cUGj-JOf7TI5",
        "colab_type": "text"
      },
      "source": [
        "# NumPy Array Operations"
      ]
    },
    {
      "cell_type": "code",
      "metadata": {
        "id": "QMbOyfEE1XMg",
        "colab_type": "code",
        "outputId": "de0c8cf4-377d-4670-bb7f-48e3a06b7553",
        "colab": {
          "base_uri": "https://localhost:8080/",
          "height": 34
        }
      },
      "source": [
        "import numpy as np\n",
        "np.random.seed(100)\n",
        "arr = np.random.randint(0,101,10)\n",
        "\n",
        "arr"
      ],
      "execution_count": 49,
      "outputs": [
        {
          "output_type": "execute_result",
          "data": {
            "text/plain": [
              "array([ 8, 24, 67, 87, 79, 48, 10, 94, 52, 98])"
            ]
          },
          "metadata": {
            "tags": []
          },
          "execution_count": 49
        }
      ]
    },
    {
      "cell_type": "code",
      "metadata": {
        "id": "QsjMvU1j7qO5",
        "colab_type": "code",
        "outputId": "0b9a96de-a70c-48d9-a928-0561df6979ad",
        "colab": {
          "base_uri": "https://localhost:8080/",
          "height": 34
        }
      },
      "source": [
        "arr2 = np.random.randint(0,101,10)\n",
        "arr2"
      ],
      "execution_count": 50,
      "outputs": [
        {
          "output_type": "execute_result",
          "data": {
            "text/plain": [
              "array([ 53,  66,  98,  14,  34,  24,  15, 100,  60,  58])"
            ]
          },
          "metadata": {
            "tags": []
          },
          "execution_count": 50
        }
      ]
    },
    {
      "cell_type": "markdown",
      "metadata": {
        "id": "mYIcAvnAVS8B",
        "colab_type": "text"
      },
      "source": [
        "We are using the matrix below to try and isolate rows, columns and specific segments. This is a useful skill to learn when working with image arrays."
      ]
    },
    {
      "cell_type": "code",
      "metadata": {
        "id": "EUSrdY2icDN0",
        "colab_type": "code",
        "outputId": "f64c54b5-a5e6-485e-cf79-0b630a103488",
        "colab": {
          "base_uri": "https://localhost:8080/",
          "height": 187
        }
      },
      "source": [
        "matrix = np.arange(0,100).reshape(10,10)\n",
        "matrix"
      ],
      "execution_count": 51,
      "outputs": [
        {
          "output_type": "execute_result",
          "data": {
            "text/plain": [
              "array([[ 0,  1,  2,  3,  4,  5,  6,  7,  8,  9],\n",
              "       [10, 11, 12, 13, 14, 15, 16, 17, 18, 19],\n",
              "       [20, 21, 22, 23, 24, 25, 26, 27, 28, 29],\n",
              "       [30, 31, 32, 33, 34, 35, 36, 37, 38, 39],\n",
              "       [40, 41, 42, 43, 44, 45, 46, 47, 48, 49],\n",
              "       [50, 51, 52, 53, 54, 55, 56, 57, 58, 59],\n",
              "       [60, 61, 62, 63, 64, 65, 66, 67, 68, 69],\n",
              "       [70, 71, 72, 73, 74, 75, 76, 77, 78, 79],\n",
              "       [80, 81, 82, 83, 84, 85, 86, 87, 88, 89],\n",
              "       [90, 91, 92, 93, 94, 95, 96, 97, 98, 99]])"
            ]
          },
          "metadata": {
            "tags": []
          },
          "execution_count": 51
        }
      ]
    },
    {
      "cell_type": "markdown",
      "metadata": {
        "id": "Hirv9OxTVjy1",
        "colab_type": "text"
      },
      "source": [
        "Isolate the second row of the matrix."
      ]
    },
    {
      "cell_type": "code",
      "metadata": {
        "id": "Mppx1YPecMpn",
        "colab_type": "code",
        "outputId": "608fc003-8e78-404b-9dc5-dd43a4cb4c87",
        "colab": {
          "base_uri": "https://localhost:8080/",
          "height": 34
        }
      },
      "source": [
        "matrix[1,:]"
      ],
      "execution_count": 52,
      "outputs": [
        {
          "output_type": "execute_result",
          "data": {
            "text/plain": [
              "array([10, 11, 12, 13, 14, 15, 16, 17, 18, 19])"
            ]
          },
          "metadata": {
            "tags": []
          },
          "execution_count": 52
        }
      ]
    },
    {
      "cell_type": "markdown",
      "metadata": {
        "id": "bMvJ4x2dVr1P",
        "colab_type": "text"
      },
      "source": [
        "Isolate the second column of the matrix."
      ]
    },
    {
      "cell_type": "code",
      "metadata": {
        "id": "OjHtpPvccR4o",
        "colab_type": "code",
        "outputId": "9617b6c8-6043-4170-cd0f-e1981755f7d7",
        "colab": {
          "base_uri": "https://localhost:8080/",
          "height": 34
        }
      },
      "source": [
        "matrix[:,1]"
      ],
      "execution_count": 53,
      "outputs": [
        {
          "output_type": "execute_result",
          "data": {
            "text/plain": [
              "array([ 1, 11, 21, 31, 41, 51, 61, 71, 81, 91])"
            ]
          },
          "metadata": {
            "tags": []
          },
          "execution_count": 53
        }
      ]
    },
    {
      "cell_type": "markdown",
      "metadata": {
        "id": "UHXRVK9QVw_F",
        "colab_type": "text"
      },
      "source": [
        "Isolate the top left corner of the matrix in a 3x3 array."
      ]
    },
    {
      "cell_type": "code",
      "metadata": {
        "id": "78FcHJzOcXhD",
        "colab_type": "code",
        "outputId": "8b4d634d-d7ad-467f-e355-deed10c335e1",
        "colab": {
          "base_uri": "https://localhost:8080/",
          "height": 68
        }
      },
      "source": [
        "matrix[0:3,0:3]"
      ],
      "execution_count": 54,
      "outputs": [
        {
          "output_type": "execute_result",
          "data": {
            "text/plain": [
              "array([[ 0,  1,  2],\n",
              "       [10, 11, 12],\n",
              "       [20, 21, 22]])"
            ]
          },
          "metadata": {
            "tags": []
          },
          "execution_count": 54
        }
      ]
    },
    {
      "cell_type": "markdown",
      "metadata": {
        "id": "sl3Pq66vXShG",
        "colab_type": "text"
      },
      "source": [
        "Now take our original matrix, if we want to change any of the values in the matrix this can also be completed using slicing. In this case I want to change the value for the first three rows to 0."
      ]
    },
    {
      "cell_type": "code",
      "metadata": {
        "id": "TcaxV6OKXPvL",
        "colab_type": "code",
        "outputId": "df228a3c-d53d-412d-cf92-0a190c3db583",
        "colab": {
          "base_uri": "https://localhost:8080/",
          "height": 187
        }
      },
      "source": [
        "matrix = np.arange(0,100).reshape(10,10)\n",
        "matrix"
      ],
      "execution_count": 55,
      "outputs": [
        {
          "output_type": "execute_result",
          "data": {
            "text/plain": [
              "array([[ 0,  1,  2,  3,  4,  5,  6,  7,  8,  9],\n",
              "       [10, 11, 12, 13, 14, 15, 16, 17, 18, 19],\n",
              "       [20, 21, 22, 23, 24, 25, 26, 27, 28, 29],\n",
              "       [30, 31, 32, 33, 34, 35, 36, 37, 38, 39],\n",
              "       [40, 41, 42, 43, 44, 45, 46, 47, 48, 49],\n",
              "       [50, 51, 52, 53, 54, 55, 56, 57, 58, 59],\n",
              "       [60, 61, 62, 63, 64, 65, 66, 67, 68, 69],\n",
              "       [70, 71, 72, 73, 74, 75, 76, 77, 78, 79],\n",
              "       [80, 81, 82, 83, 84, 85, 86, 87, 88, 89],\n",
              "       [90, 91, 92, 93, 94, 95, 96, 97, 98, 99]])"
            ]
          },
          "metadata": {
            "tags": []
          },
          "execution_count": 55
        }
      ]
    },
    {
      "cell_type": "markdown",
      "metadata": {
        "id": "KcVvjsBZXoE5",
        "colab_type": "text"
      },
      "source": [
        "First I want to make sure I can isolate the first three rows."
      ]
    },
    {
      "cell_type": "code",
      "metadata": {
        "id": "1sQa32B8XhOm",
        "colab_type": "code",
        "outputId": "c50ef4ad-5ae9-4b94-94fa-b009c04740b4",
        "colab": {
          "base_uri": "https://localhost:8080/",
          "height": 68
        }
      },
      "source": [
        "matrix[0:3,:]"
      ],
      "execution_count": 56,
      "outputs": [
        {
          "output_type": "execute_result",
          "data": {
            "text/plain": [
              "array([[ 0,  1,  2,  3,  4,  5,  6,  7,  8,  9],\n",
              "       [10, 11, 12, 13, 14, 15, 16, 17, 18, 19],\n",
              "       [20, 21, 22, 23, 24, 25, 26, 27, 28, 29]])"
            ]
          },
          "metadata": {
            "tags": []
          },
          "execution_count": 56
        }
      ]
    },
    {
      "cell_type": "markdown",
      "metadata": {
        "id": "0xnPFsylXrQH",
        "colab_type": "text"
      },
      "source": [
        "Now I set the value to 0 on each row and output the matrix. This could be useful in pre-processing images to ignore non-relevant pixels."
      ]
    },
    {
      "cell_type": "code",
      "metadata": {
        "id": "O0XQXQTHXt0B",
        "colab_type": "code",
        "outputId": "4424e428-7862-43c2-c580-ccd9b6c98de4",
        "colab": {
          "base_uri": "https://localhost:8080/",
          "height": 68
        }
      },
      "source": [
        "matrix[0:3,:] "
      ],
      "execution_count": 60,
      "outputs": [
        {
          "output_type": "execute_result",
          "data": {
            "text/plain": [
              "array([[ 0,  1,  2,  3,  4,  5,  6,  7,  8,  9],\n",
              "       [10, 11, 12, 13, 14, 15, 16, 17, 18, 19],\n",
              "       [20, 21, 22, 23, 24, 25, 26, 27, 28, 29]])"
            ]
          },
          "metadata": {
            "tags": []
          },
          "execution_count": 60
        }
      ]
    },
    {
      "cell_type": "markdown",
      "metadata": {
        "id": "n9rCW6HwV3XL",
        "colab_type": "text"
      },
      "source": [
        "Challenge: \n",
        "\n",
        "*   Try isolating the fifth row of the matrix.\n",
        "*   Try isolating the seventh column of the matrix.\n",
        "*   Try isolating the bottom right corner of the matrix in a 3x3 array.\n",
        "\n"
      ]
    },
    {
      "cell_type": "code",
      "metadata": {
        "id": "5nEMj9jp4A3g",
        "colab_type": "code",
        "colab": {
          "base_uri": "https://localhost:8080/",
          "height": 34
        },
        "outputId": "92573928-a1df-4c9f-d343-a61fdc0b9b2e"
      },
      "source": [
        "matrix[4,:]"
      ],
      "execution_count": 58,
      "outputs": [
        {
          "output_type": "execute_result",
          "data": {
            "text/plain": [
              "array([40, 41, 42, 43, 44, 45, 46, 47, 48, 49])"
            ]
          },
          "metadata": {
            "tags": []
          },
          "execution_count": 58
        }
      ]
    },
    {
      "cell_type": "code",
      "metadata": {
        "id": "TiDatvzx4OUe",
        "colab_type": "code",
        "colab": {
          "base_uri": "https://localhost:8080/",
          "height": 34
        },
        "outputId": "bea2e990-f3c3-4b5e-ccef-9942d94626a5"
      },
      "source": [
        "matrix[:,6]"
      ],
      "execution_count": 59,
      "outputs": [
        {
          "output_type": "execute_result",
          "data": {
            "text/plain": [
              "array([ 6, 16, 26, 36, 46, 56, 66, 76, 86, 96])"
            ]
          },
          "metadata": {
            "tags": []
          },
          "execution_count": 59
        }
      ]
    },
    {
      "cell_type": "code",
      "metadata": {
        "id": "K6doM9PZ5Xl6",
        "colab_type": "code",
        "colab": {
          "base_uri": "https://localhost:8080/",
          "height": 68
        },
        "outputId": "2b23afa0-cc89-4a84-cc00-a66093eed59c"
      },
      "source": [
        "matrix[7:10,7:10]"
      ],
      "execution_count": 64,
      "outputs": [
        {
          "output_type": "execute_result",
          "data": {
            "text/plain": [
              "array([[77, 78, 79],\n",
              "       [87, 88, 89],\n",
              "       [97, 98, 99]])"
            ]
          },
          "metadata": {
            "tags": []
          },
          "execution_count": 64
        }
      ]
    }
  ]
}